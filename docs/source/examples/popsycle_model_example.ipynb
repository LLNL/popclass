{
 "cells": [
  {
   "cell_type": "markdown",
   "id": "28925f79-b225-472d-9a29-374a501a57cf",
   "metadata": {},
   "source": [
    "# Package a PopSyCLE Simulation for Contribution to the Project"
   ]
  },
  {
   "cell_type": "code",
   "execution_count": null,
   "id": "c6ec3c01-9e7c-4fb1-84e8-56a351b29656",
   "metadata": {},
   "outputs": [],
   "source": [
    "from astropy.table import Table \n",
    "from astropy.io import ascii\n",
    "import os \n",
    "import sys\n",
    "import numpy as np\n",
    "from popclass.model import PopulationModel\n",
    "from popclass.visualization import plot_population_model\n",
    "import matplotlib.pyplot as plt \n",
    "import pandas as pd\n",
    "from pathlib import Path\n",
    "\n"
   ]
  },
  {
   "cell_type": "markdown",
   "id": "004dfeaa-badc-4938-8cbe-0c408b7a8493",
   "metadata": {},
   "source": [
    "## Read in the base-PopSyCLE data\n",
    "The first step is to read in the output data from PopSyCLE. The relevant output for packaging a popclass model is contained in the file named: `<root>_refine_events_<filter>_<reddeninglaw>.fits`. It can be read in as an Astropy Table object, then converted to a pandas dataframe if desired. "
   ]
  },
  {
   "cell_type": "code",
   "execution_count": null,
   "id": "ba104315-f482-44c7-adde-cf3d06b9f446",
   "metadata": {},
   "outputs": [],
   "source": [
    "dir_path = str(Path().resolve())\n",
    "\n",
    "table = Table.read(dir_path+\"/data/sample_population_file_refined_events_ubv_I_Damineli16.fits\")\n",
    "table = table.to_pandas()"
   ]
  },
  {
   "cell_type": "markdown",
   "id": "7e9a4173-2ef7-49cf-aeec-a0990ec8e7c0",
   "metadata": {},
   "source": [
    "## Perform pre-processing\n",
    "\n",
    "Next, we can apply basic cuts or do any required post-processing to ensure the simulation is ready to be used. For example, one might want to remove unphysical microlensing events, such as events with dark sources. \n",
    "\n",
    "**NOTE:** If trying to undo selection effects, do so with extreme caution. The classification procedure is robust to using the intrinsic population of events, and therefore works perfectly fine with an unmodified simulation (with regards to detectability). If trying to encode selection effects for whatever reason, one **must** utilize the detection effeciency for the relevant survey, in the population samples (going into the likelihood) and in the class_weights (the prior). Simply cutting out regions of parameter space (e.g., only including events with source magnitude < 21) is not a proper accounting of selection effects and might bias the classification result. "
   ]
  },
  {
   "cell_type": "code",
   "execution_count": null,
   "id": "9ab9c62e-9321-47f0-8d27-7e0245c00f40",
   "metadata": {},
   "outputs": [],
   "source": [
    "table_filtered = table[ table[\"rem_id_S\"] < 100]\n"
   ]
  },
  {
   "cell_type": "markdown",
   "id": "5216d802-3b38-4aea-b1e4-bb83f52a0808",
   "metadata": {},
   "source": [
    "Now, one might want to include any additional derivative information needed in the population model. For example, the classification procedure is typically done in log-space instead of linear $t_E$ - $\\pi_E$, purely for numerical stability. To allow for that, the population model will need samples in $\\log_{10} t_E$ and $\\log_{10} \\pi_E$. "
   ]
  },
  {
   "cell_type": "code",
   "execution_count": null,
   "id": "6a68618a-2eca-4abf-ac95-7cc5dea73eb2",
   "metadata": {},
   "outputs": [],
   "source": [
    "table_filtered[\"log10tE\"] = np.log10(table_filtered[\"t_E\"])\n",
    "table_filtered[\"log10piE\"] = np.log10(table_filtered[\"pi_E\"])\n",
    "table_filtered[\"mag\"] = table_filtered[\"ubv_I_S\"]"
   ]
  },
  {
   "cell_type": "markdown",
   "id": "32bdd6a2-8fe6-419c-a2c3-dc1db59efbc3",
   "metadata": {},
   "source": [
    "## Organize the simulation data \n",
    "\n",
    "From here, we can prep the data to be used to initialize a PopulationModel object. We will need\n",
    "\n",
    "1. The names of the different classes. In this example, we are focusing on the physical class of the lens, so $\\text{class} \\in \\{\\text{star},\\text{white\\_dwarf},\\text{neutron\\_star},\\text{black\\_hole} \\}$.\n",
    "1. The names of the model parameters included in the population model. This should include any parameters that are inferred from the data and needed to accurately classify the event ($\\log_{10} t_E$, $\\log_{10} \\pi_E$, and the blending fraction, for example), as well as other parameters that might be wanted for additional analysis, like posterior predictive distributions. These can include things not directly accessible from the data, which might include distances, $\\theta_E$, or velocities.\n",
    "1. We need to separate out the desired parameters from the full data set, labeled by class, which we call `population_data`.\n",
    "1. Finally, as popclass does not depend on getting the relative probability of each class from the simulation data itself, but instead relies on the user for this information, we must provide the relative, expected abundance for each class, which we call `class_weights`. This is the prior in the classification procedure. "
   ]
  },
  {
   "cell_type": "code",
   "execution_count": null,
   "id": "cf3c25d8-81b6-4cf1-8d47-ce1c81e49467",
   "metadata": {},
   "outputs": [],
   "source": [
    "class_names = {\"star\":0,\"white_dwarf\":101,\"neutron_star\":102,\"black_hole\":103}\n",
    "parameter_names = [\"log10tE\",\"log10piE\",\"f_blend_I\",\"rad_L\",\"rad_S\",\"ubv_I_S\"]\n",
    "population_data = { class_name : table_filtered.loc[table_filtered[\"rem_id_L\"] == index, parameter_names].to_numpy() for class_name, index in class_names.items()}\n",
    "class_weights = { class_name: sum(table_filtered[\"rem_id_L\"] == index)/len(table_filtered) for class_name, index in class_names.items()}\n",
    "citation = [\"10.3847/1538-4357/ab5fd3\", \"10.3847/1538-4357/aca09d\"]"
   ]
  },
  {
   "cell_type": "markdown",
   "id": "c76d57b9-3ec3-4368-a71e-92cec3f5cddf",
   "metadata": {},
   "source": [
    "## Build the model object\n",
    "\n",
    "With the relevant data extracted from PopSyCLE, we can construct our population model object. "
   ]
  },
  {
   "cell_type": "code",
   "execution_count": null,
   "id": "dccd4694-b46b-4030-8ff3-5f4f5b2fd5a2",
   "metadata": {},
   "outputs": [],
   "source": [
    "model = PopulationModel(population_samples = population_data, class_weights=class_weights, parameters=parameter_names, citation=citation)"
   ]
  },
  {
   "cell_type": "markdown",
   "id": "c7b3da9e-4843-4f2e-9dd6-744345f5fa13",
   "metadata": {},
   "source": [
    "## (Optional) Visualize the Ouptut \n",
    "\n",
    "Optionally, we can visualize the data that we have packaged to ensure it matches our expectations. We can look at 1- and 2-D visualizations of the different possible combinations of parameters, separated by class. This not only helps to ensure the model was packaged accurately, but also helps to develop an intuition for which parameters may be relevant for classification. "
   ]
  },
  {
   "cell_type": "code",
   "execution_count": null,
   "id": "d4cbaa72-c015-4ed3-ae08-76b7c0d07d73",
   "metadata": {},
   "outputs": [],
   "source": [
    "fig, ax = plot_population_model(model,[\"log10tE\",\"log10piE\"],legend=True)\n",
    "plt.show()\n",
    "plt.close()"
   ]
  },
  {
   "cell_type": "markdown",
   "id": "950309b2-1b42-4133-9c63-8bb077215044",
   "metadata": {},
   "source": [
    "## Write the Model to an Output File\n",
    "\n",
    "This will save the model to an ASDF file, called `popsycle_test.asdf` in `./data/`. \n",
    "This model can be loaded in and reused for future classification. "
   ]
  },
  {
   "cell_type": "code",
   "execution_count": null,
   "id": "f033ed16-b9ff-487f-9d98-0363dea87901",
   "metadata": {},
   "outputs": [],
   "source": [
    "model_name=\"popsycle_test\"\n",
    "model.to_asdf(path=f\"{dir_path}/data/{model_name}.asdf\", model_name=model_name)"
   ]
  },
  {
   "cell_type": "markdown",
   "id": "c158396b-1b88-4e7d-a7ef-292c50aaf49a",
   "metadata": {},
   "source": [
    "## Contribute the Model to the Project\n",
    "\n",
    "One can also contribute this model to the project at large, helping the community to do better science and also making the person eligible to be a contributer.  \n",
    "To do this:\n",
    "\n",
    "1. From the documentation, follow the contributer guide to setup a local branch and check it out.\n",
    "2. The resulting ASDF file from above can be added to the model library directory, in `popclass/data/`.\n",
    "3. The list of available models must be expanded by adding the model name (in this example, `popsycle_test`). This is done by adding the name to the list in `popclass/model.py` called `AVAILABLE_MODELS`.\n",
    "4. Finally, follow the contributer guid in the documentation to make a pull request. "
   ]
  }
 ],
 "metadata": {
  "kernelspec": {
   "display_name": "Python 3 (ipykernel)",
   "language": "python",
   "name": "python3"
  },
  "language_info": {
   "codemirror_mode": {
    "name": "ipython",
    "version": 3
   },
   "file_extension": ".py",
   "mimetype": "text/x-python",
   "name": "python",
   "nbconvert_exporter": "python",
   "pygments_lexer": "ipython3",
   "version": "3.9.12"
  }
 },
 "nbformat": 4,
 "nbformat_minor": 5
}
