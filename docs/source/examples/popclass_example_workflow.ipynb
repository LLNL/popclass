{
 "cells": [
  {
   "cell_type": "markdown",
   "metadata": {},
   "source": [
    "# popclass example workflow\n",
    "\n",
    "This notebook is meant to be a way to field-test `popclass`.\n",
    "Treat this as an interactable sandbox/tutorial to test on real data.\n",
    "The workflow herein shoud provide a sufficient baseline for `popclass` usage."
   ]
  },
  {
   "cell_type": "code",
   "execution_count": 17,
   "metadata": {},
   "outputs": [],
   "source": [
    "# imports\n",
    "import numpy as np\n",
    "import pandas as pd\n",
    "import sys\n",
    "sys.path.insert(0, \"..\",)\n",
    "from popclass.model import PopulationModel\n",
    "from popclass.posterior import Posterior, InferenceData\n",
    "from popclass.visualization import plot_population_model\n",
    "from popclass.classify import classify\n",
    "import matplotlib.pyplot as plt\n",
    "from scipy.stats import norm"
   ]
  },
  {
   "cell_type": "markdown",
   "metadata": {},
   "source": [
    "## Data\n",
    "\n",
    "This example uses data from [Golovich et al. (2022)](https://iopscience.iop.org/article/10.3847/1538-4365/ac5969#https://gdo-microlensing.llnl.gov/).\n",
    "\n",
    "Example data is included in `/data/parallax_trace.csv` within this parent directory."
   ]
  },
  {
   "cell_type": "code",
   "execution_count": 18,
   "metadata": {},
   "outputs": [],
   "source": [
    "example_posterior = pd.read_csv(\"data/parallax_trace.csv\")\n",
    "example_posterior['log10tE'] = np.log10(example_posterior['tE'])\n",
    "example_posterior['log10piE'] = np.log10(example_posterior['piE'])"
   ]
  },
  {
   "cell_type": "markdown",
   "metadata": {},
   "source": [
    "##  Creating `popclass` Objects\n",
    "\n",
    "To run the classifier, the user must create several objects that `popclass` understands:\n",
    "1) A `Posterior` object that contains the set of posterior samples and parameter labels\n",
    "2) An `InferenceData` object that includes the marginal of the parameters we may want for classification and associated prior density\n",
    "3) A `PopulationModel` object"
   ]
  },
  {
   "cell_type": "markdown",
   "metadata": {},
   "source": [
    "For this example, we are interested in classifiying in $\\log_{10} t_E - \\log_{10} \\pi_E$ space.\n",
    "We will first create a `Posterior` with the ful dataset, then a marginal over `log10tE` and `log10piE`. "
   ]
  },
  {
   "cell_type": "code",
   "execution_count": 19,
   "metadata": {},
   "outputs": [],
   "source": [
    "labels = [\"log10tE\", \"log10piE\"]\n",
    "\n",
    "post = Posterior(\n",
    "    samples=example_posterior.values,\n",
    "    parameter_labels=example_posterior.columns\n",
    ")"
   ]
  },
  {
   "cell_type": "markdown",
   "metadata": {},
   "source": [
    "Our marginal looks like: {{marginal}}.\n",
    "If we want to use this for classification, we need to specify a prior density.\n",
    "In this case, we are reusing the posterior samples from [Golovich et. al. 2022](https://arxiv.org/abs/2009.07927), where the prior for $ \\log_{10} t_E$ and $\\log_{10} \\pi_E$ was \n",
    "\n",
    "$$ \n",
    "p(\\log_{10} t_E, \\log_{10} \\pi_E ) = \\mathcal{N} ( \\mu_{\\log_{10} t_E} =1.13435 , \\sigma_{\\log_{10} t_E}= 0.67502)\\times  \\mathcal{N} ( \\mu_{\\log_{10} \\pi_E} = -0.884205, \\sigma_{\\log_{10} \\pi_E}= 0.5394626957)\n",
    "$$"
   ]
  },
  {
   "cell_type": "code",
   "execution_count": 20,
   "metadata": {},
   "outputs": [],
   "source": [
    "def golovich_prior_pdf(log10tE,log10piE):\n",
    "    mulog10tE, sigmalog10tE = 1.13435, 0.33751*2 \n",
    "    mulog10piE, sigmalog10piE = -0.884205, 2*np.sqrt(0.072755)\n",
    "    return norm.pdf(log10tE,loc=mulog10tE,scale=sigmalog10tE)*norm.pdf(log10piE,loc=mulog10piE,scale=sigmalog10piE)\n"
   ]
  },
  {
   "cell_type": "code",
   "execution_count": 21,
   "metadata": {},
   "outputs": [],
   "source": [
    "log10piE_samples = post.marginal(['log10piE']).samples\n",
    "log10tE_samples = post.marginal(['log10tE']).samples\n",
    "prior_density = golovich_prior_pdf(\n",
    "        log10tE_samples,\n",
    "        log10piE_samples\n",
    "    )"
   ]
  },
  {
   "cell_type": "markdown",
   "metadata": {},
   "source": [
    "Create an `InferenceData` object."
   ]
  },
  {
   "cell_type": "code",
   "execution_count": 22,
   "metadata": {},
   "outputs": [],
   "source": [
    "inference_data = post.to_inference_data(\n",
    "    prior_density=prior_density\n",
    ")"
   ]
  },
  {
   "cell_type": "markdown",
   "metadata": {},
   "source": [
    "The last ingredient for classification is the `PopulationModel`.\n",
    "For this, we will use one of the models included in the library/"
   ]
  },
  {
   "cell_type": "code",
   "execution_count": 23,
   "metadata": {},
   "outputs": [],
   "source": [
    "population_model = PopulationModel.from_library(\n",
    "    \"popsycle_singles_sukhboldn20\",\n",
    "    library_path=\"../popclass/data/\"\n",
    ")"
   ]
  },
  {
   "cell_type": "markdown",
   "metadata": {},
   "source": [
    "We can also visualize the population model by using visualization tools included in the library."
   ]
  },
  {
   "cell_type": "code",
   "execution_count": null,
   "metadata": {},
   "outputs": [],
   "source": [
    "fig, ax = plot_population_model(\n",
    "    PopulationModel=population_model,\n",
    "    parameters=labels,\n",
    "    levels=5,\n",
    "    legend=True\n",
    ")\n",
    "log10piE_samples = post.marginal(['log10piE']).samples\n",
    "log10tE_samples = post.marginal(['log10tE']).samples\n",
    "ax.hexbin(log10tE_samples,log10piE_samples,mincnt=1)\n",
    "plt.show()"
   ]
  },
  {
   "cell_type": "markdown",
   "metadata": {},
   "source": [
    "## Running the classifier\n",
    "\n",
    "With all of the ingredients in place, running the classifier is straightforward.\n",
    "The output of the classifier is a dictionary containing `{classname: probability}` for each class."
   ]
  },
  {
   "cell_type": "code",
   "execution_count": null,
   "metadata": {},
   "outputs": [],
   "source": [
    "classify(\n",
    "    inference_data=inference_data,\n",
    "    population_model=population_model,\n",
    "    parameters=labels\n",
    ")"
   ]
  },
  {
   "cell_type": "markdown",
   "metadata": {},
   "source": [
    "From the results of the classifier, our example event is *most* likely a BH."
   ]
  },
  {
   "cell_type": "markdown",
   "metadata": {},
   "source": [
    "## Changing the parameter space\n",
    "\n",
    "To understand what features in the posterior influence the classification of an event the most, we can also rerun the classification with a different parameterization. For example, we can classify the event using only the $\\log_{10} t_E$ marginal posterior, to see how the result changes. \n",
    "\n",
    "First we simply change the labels we are using."
   ]
  },
  {
   "cell_type": "code",
   "execution_count": 26,
   "metadata": {},
   "outputs": [],
   "source": [
    "labels=[\"log10tE\"]"
   ]
  },
  {
   "cell_type": "markdown",
   "metadata": {},
   "source": [
    "Next, we can visualize the new observational-parameter space we are using, to determine how our ability to disambiguate the different classes changes."
   ]
  },
  {
   "cell_type": "code",
   "execution_count": null,
   "metadata": {},
   "outputs": [],
   "source": [
    "fig, ax = plot_population_model(\n",
    "    PopulationModel=population_model,\n",
    "    parameters=labels,\n",
    "    levels=5,\n",
    "    legend=True\n",
    ")\n",
    "log10piE_samples = post.marginal(['log10piE']).samples\n",
    "log10tE_samples = post.marginal(['log10tE']).samples\n",
    "ax.hist(log10tE_samples,bins=30,histtype='step',density=True)\n",
    "plt.show()"
   ]
  },
  {
   "cell_type": "markdown",
   "metadata": {},
   "source": [
    "From this plot, we can see that the separation of the classes is not as strong in this space. We might expect the result to be less informative than when we used the 2D parameter space."
   ]
  },
  {
   "cell_type": "code",
   "execution_count": null,
   "metadata": {},
   "outputs": [],
   "source": [
    "classify(\n",
    "    inference_data=inference_data,\n",
    "    population_model=population_model,\n",
    "    parameters=labels\n",
    ")"
   ]
  },
  {
   "cell_type": "markdown",
   "metadata": {},
   "source": [
    "Indeed, the posterior probability of the classification of this event has shifted more to the prior, i.e., less probable to be a BH."
   ]
  },
  {
   "cell_type": "markdown",
   "metadata": {},
   "source": [
    "## Different Population Model\n",
    "\n",
    "The underlying galactic model is another layer of uncertainty that we might want to assess.\n",
    "How will our inference change when conditioned on a different galactic model? \n",
    "First, we'll go back to our original parameter space."
   ]
  },
  {
   "cell_type": "code",
   "execution_count": 29,
   "metadata": {},
   "outputs": [],
   "source": [
    "labels = [\"log10tE\", \"log10piE\"]\n"
   ]
  },
  {
   "cell_type": "markdown",
   "metadata": {},
   "source": [
    "Next, we can load in a different model from our library, this time using a simulation based on the Spera15 IFMR. "
   ]
  },
  {
   "cell_type": "code",
   "execution_count": 30,
   "metadata": {},
   "outputs": [],
   "source": [
    "population_model = PopulationModel.from_library(\n",
    "    \"popsycle_singles_spera15\",\n",
    "    library_path=\"../popclass/data/\"\n",
    ")\n"
   ]
  },
  {
   "cell_type": "markdown",
   "metadata": {},
   "source": [
    "Now, we can visualize how the predictions for each class changes with the new galactic model."
   ]
  },
  {
   "cell_type": "code",
   "execution_count": null,
   "metadata": {},
   "outputs": [],
   "source": [
    "fig, ax = plot_population_model(\n",
    "    PopulationModel=population_model,\n",
    "    parameters=labels,\n",
    "    levels=5,\n",
    "    legend=True\n",
    ")\n",
    "log10piE_samples = post.marginal(['log10piE']).samples\n",
    "log10tE_samples = post.marginal(['log10tE']).samples\n",
    "ax.hexbin(log10tE_samples,log10piE_samples,mincnt=1)\n",
    "plt.show()"
   ]
  },
  {
   "cell_type": "markdown",
   "metadata": {},
   "source": [
    "We now repeat the classification procedure:"
   ]
  },
  {
   "cell_type": "code",
   "execution_count": null,
   "metadata": {},
   "outputs": [],
   "source": [
    "classify(\n",
    "    inference_data=inference_data,\n",
    "    population_model=population_model,\n",
    "    parameters=labels\n",
    ")"
   ]
  },
  {
   "cell_type": "markdown",
   "metadata": {},
   "source": [
    "We can see that while the probabilities did shift, this event seems to be robustly a high confidence BH candidate, at least when considering the population model space spanned by these two example models. "
   ]
  }
 ],
 "metadata": {
  "kernelspec": {
   "display_name": "Python 3 (ipykernel)",
   "language": "python",
   "name": "python3"
  },
  "language_info": {
   "codemirror_mode": {
    "name": "ipython",
    "version": 3
   },
   "file_extension": ".py",
   "mimetype": "text/x-python",
   "name": "python",
   "nbconvert_exporter": "python",
   "pygments_lexer": "ipython3",
   "version": "3.10.14"
  }
 },
 "nbformat": 4,
 "nbformat_minor": 4
}
