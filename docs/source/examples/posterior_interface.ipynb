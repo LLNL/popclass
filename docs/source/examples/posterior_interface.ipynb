{
 "cells": [
  {
   "cell_type": "markdown",
   "metadata": {},
   "source": [
    "# Working with posteriors and popclass\n",
    "\n",
    "``popclass`` includes convenience functions for ingesting common inference\n",
    "data objects.\n",
    "While an array of samples and associated parameter labels can be passed\n",
    "directly to ``popclass.Posterior``, we currently support conversion from\n",
    "the following output formats:\n",
    "\n",
    "* ArviZ\n",
    "* pymultinest\n",
    "\n",
    "This notebook will provide the information to interface with the different posteriors that `popclass` supports, as well as general construction."
   ]
  },
  {
   "cell_type": "code",
   "execution_count": 28,
   "metadata": {},
   "outputs": [],
   "source": [
    "# imports\n",
    "import numpy as np\n",
    "import arviz as az\n",
    "from pymultinest import Analyzer\n",
    "import sys\n",
    "from popclass.posterior import Posterior"
   ]
  },
  {
   "cell_type": "markdown",
   "metadata": {},
   "source": [
    "##  ``popclass.Posterior`` general handling\n",
    "\n",
    "Constructing a `popclass.Posterior` requires two sets of information:\n",
    "* `posterior_samples` (array, `(N_samples, N_dim)`): posterior samples\n",
    "* `parameter_labels` (list, `(N_dim)`): ordedred list of the parameters corresponding to the samples.\n",
    "\n",
    "Initializing a `Posterior` for `popclass` can be as simple as the following:"
   ]
  },
  {
   "cell_type": "code",
   "execution_count": 21,
   "metadata": {},
   "outputs": [],
   "source": [
    "test_samples = np.random.rand(1000, 3)\n",
    "test_params = [\"A\", \"B\", \"C\"]\n",
    "\n",
    "post = Posterior(\n",
    "    samples=test_samples,\n",
    "    parameter_labels=test_params\n",
    ")"
   ]
  },
  {
   "cell_type": "markdown",
   "metadata": {},
   "source": [
    "Interacting with a `Posterior` is also straightforward.\n",
    "To access the attributes of the object:"
   ]
  },
  {
   "cell_type": "code",
   "execution_count": null,
   "metadata": {},
   "outputs": [],
   "source": [
    "print(post.samples[0], post.parameter_labels)"
   ]
  },
  {
   "cell_type": "markdown",
   "metadata": {},
   "source": [
    "## Converting from an existing posterior\n",
    "\n",
    "`popclass` includes utilities to convert from existing posterior formats.\n",
    "\n",
    "We can demonstrate by mocking up a simple `ArviZ` posterior:"
   ]
  },
  {
   "cell_type": "code",
   "execution_count": 23,
   "metadata": {},
   "outputs": [],
   "source": [
    "post = {\n",
    "    test_params[0]: test_samples[:, 0],\n",
    "    test_params[1]: test_samples[:, 1],\n",
    "    test_params[2]: test_samples[:, 2],\n",
    "}\n",
    "\n",
    "az_inference_data = az.convert_to_inference_data(post)"
   ]
  },
  {
   "cell_type": "markdown",
   "metadata": {},
   "source": [
    "`popclass.Posterior` includes a classmethod for interacting with an existing `ArviZ` posterior."
   ]
  },
  {
   "cell_type": "code",
   "execution_count": null,
   "metadata": {},
   "outputs": [],
   "source": [
    "popclass_post = Posterior.from_arviz(az_inference_data)\n",
    "print(popclass_post.samples[0], popclass_post.parameter_labels)"
   ]
  },
  {
   "cell_type": "markdown",
   "metadata": {},
   "source": [
    "We can follow a similar workflow to interface with `pymultinest`:\n",
    "\n",
    "First, mock up a posterior:"
   ]
  },
  {
   "cell_type": "code",
   "execution_count": null,
   "metadata": {},
   "outputs": [],
   "source": [
    "test_samples = np.loadtxt(\"../../../tests/test_post_equal_weights.dat\")\n",
    "pymultinest_posterior = Analyzer(3, \"../../../tests/test_\")\n",
    "test_params = [\"A\", \"B\", \"C\"]"
   ]
  },
  {
   "cell_type": "code",
   "execution_count": null,
   "metadata": {},
   "outputs": [],
   "source": [
    "popclass_post = Posterior.from_pymultinest(pymultinest_posterior, test_params)\n",
    "print(popclass_post.samples[0], popclass_post.parameter_labels)"
   ]
  }
 ],
 "metadata": {
  "kernelspec": {
   "display_name": "Python 3",
   "language": "python",
   "name": "python3"
  },
  "language_info": {
   "codemirror_mode": {
    "name": "ipython",
    "version": 3
   },
   "file_extension": ".py",
   "mimetype": "text/x-python",
   "name": "python",
   "nbconvert_exporter": "python",
   "pygments_lexer": "ipython3",
   "version": "3.10.15"
  }
 },
 "nbformat": 4,
 "nbformat_minor": 2
}
