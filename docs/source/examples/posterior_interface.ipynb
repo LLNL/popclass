{
 "cells": [
  {
   "cell_type": "markdown",
   "metadata": {},
   "source": [
    "# Working with posteriors and popclass\n",
    "\n",
    "``popclass`` includes convenience functions for ingesting common inference\n",
    "data objects.\n",
    "While an array of samples and associated parameter labels can be passed\n",
    "directly to ``popclass.Posterior``, we currently support conversion from\n",
    "the following output formats:\n",
    "\n",
    "* ArviZ\n",
    "* pymultinest\n",
    "\n",
    "This notebook will provide the information to interface with the different posteriors that `popclass` supports, as well as general construction."
   ]
  },
  {
   "cell_type": "code",
   "execution_count": null,
   "metadata": {},
   "outputs": [],
   "source": [
    "# imports\n",
    "import numpy as np\n",
    "import sys\n",
    "sys.path.insert(0, \"..\",)\n",
    "from popclass.posterior import Posterior"
   ]
  },
  {
   "cell_type": "markdown",
   "metadata": {},
   "source": [
    "##  ``popclass.Posterior`` general construction\n",
    "\n",
    "Constructing a `popclass.Posterior` requires two sets of information:\n",
    "* `posterior_samples` (array, `(N_samples, N_dim)`): posterior samples\n",
    "* `parameter_labels` (list, `(N_dim)`): ordedred list of the parameters corresponding to the samples.\n",
    "\n",
    "Initializing a `Posterior` for `popclass` can be as simple as the following:"
   ]
  },
  {
   "cell_type": "code",
   "execution_count": null,
   "metadata": {},
   "outputs": [],
   "source": [
    "samples = np.random.randn(1000,2)\n",
    "labels = ['A', 'B']\n",
    "\n",
    "post = Posterior(\n",
    "    samples=samples,\n",
    "    parameter_labels=labels\n",
    ")"
   ]
  },
  {
   "cell_type": "markdown",
   "metadata": {},
   "source": [
    "## Converting from an existing posterior\n",
    "\n",
    "`popclass` includes utilities to convert from existing posterior formats."
   ]
  },
  {
   "cell_type": "code",
   "execution_count": null,
   "metadata": {},
   "outputs": [],
   "source": []
  },
  {
   "cell_type": "markdown",
   "metadata": {},
   "source": []
  }
 ],
 "metadata": {
  "kernelspec": {
   "display_name": "Python 3",
   "language": "python",
   "name": "python3"
  },
  "language_info": {
   "codemirror_mode": {
    "name": "ipython",
    "version": 3
   },
   "file_extension": ".py",
   "mimetype": "text/x-python",
   "name": "python",
   "nbconvert_exporter": "python",
   "pygments_lexer": "ipython3",
   "version": "3.10.15"
  }
 },
 "nbformat": 4,
 "nbformat_minor": 2
}
