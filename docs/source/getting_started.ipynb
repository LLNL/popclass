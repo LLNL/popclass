{
 "cells": [
  {
   "cell_type": "markdown",
   "metadata": {},
   "source": [
    "# Getting Started "
   ]
  },
  {
   "cell_type": "markdown",
   "metadata": {},
   "source": [
    "To demostrate basic usage of popclass we will mock some input microlensing\n",
    "event data and use a pre-loaded population model to classify the lens of the\n",
    "event. For a primer on microlensing see the microlensing source\n",
    "[website](https://www.microlensing-source.org/).\n",
    "\n",
    "The inputs to popclass are samples from a single event posterior distribution\n",
    "and their associated prior density. Let's assume the posterior distribution is\n",
    "10,000 samples from an uncorrelated gaussian in $\\log t_{E}- \\log\\pi_{E}$ centered on 2, and -1, with\n",
    "standard deviations of 0.1 and 0.5, respectively.\n",
    "\n",
    "For simplicity, let's also assume that an independent uniform prior with range [-3,3]\n",
    "in each parameter was used in the modeling so the prior density of each\n",
    "posterior sample is identical and equal to $1/6 \\times 1/6 \\approx 0.028$."
   ]
  },
  {
   "cell_type": "code",
   "execution_count": 1,
   "metadata": {},
   "outputs": [],
   "source": [
    "import numpy as np\n",
    "from popclass.posterior import Posterior\n",
    "from popclass.model import PopulationModel\n",
    "from popclass.classify import classify"
   ]
  },
  {
   "cell_type": "code",
   "execution_count": 2,
   "metadata": {},
   "outputs": [],
   "source": [
    "NUM_POSTERIOR_SAMPLES = 10000\n",
    "\n",
    "logtE_posterior_samples = np.random.normal(loc=2,scale=0.1, size=NUM_POSTERIOR_SAMPLES)\n",
    "logpiE_posterior_samples = np.random.normal(loc=-1,scale=0.5, size=NUM_POSTERIOR_SAMPLES)\n",
    "posterior_samples = np.vstack((logtE_posterior_samples,logpiE_posterior_samples)).swapaxes(0,1)\n",
    "\n",
    "prior_density = 0.028 * np.ones(NUM_POSTERIOR_SAMPLES)"
   ]
  },
  {
   "cell_type": "markdown",
   "metadata": {},
   "source": [
    "Now let's load this data into a format popclass understands."
   ]
  },
  {
   "cell_type": "code",
   "execution_count": 3,
   "metadata": {},
   "outputs": [],
   "source": [
    "posterior = Posterior(samples=posterior_samples, parameter_labels=['log10tE', 'log10piE'])\n",
    "inference_data = posterior.to_inference_data(prior_density)"
   ]
  },
  {
   "cell_type": "markdown",
   "metadata": {},
   "source": [
    "Now we will load in a readily-available (or named) population model. We will choose the\n",
    "[PopSyCLE](https://github.com/jluastro/PopSyCLE) (Lam, 2020) population model\n",
    "with the sukhbold (Sukhbold, 2016) initial final mass relation."
   ]
  },
  {
   "cell_type": "code",
   "execution_count": 4,
   "metadata": {},
   "outputs": [],
   "source": [
    "popsycle = PopulationModel.from_library('popsycle_singles_sukhboldn20')"
   ]
  },
  {
   "cell_type": "markdown",
   "metadata": {},
   "source": [
    "We will now combine all of this information to classify the lens,\n",
    "given the popsycle model and the event $\\log t_{E}-\\log\\pi_{E}$ posterior."
   ]
  },
  {
   "cell_type": "code",
   "execution_count": 5,
   "metadata": {},
   "outputs": [
    {
     "name": "stdout",
     "output_type": "stream",
     "text": [
      "{'black_hole': 0.0905788576625947, 'neutron_star': 0.0014221246262042565, 'star': 0.7070427946164506, 'white_dwarf': 0.20095622309475034}\n"
     ]
    }
   ],
   "source": [
    "classification = classify(population_model=popsycle, inference_data=inference_data,\n",
    "parameters =['log10tE', 'log10piE'])\n",
    "print(classification)"
   ]
  },
  {
   "cell_type": "markdown",
   "metadata": {},
   "source": [
    "classification is a dictionary of len class probabilities.\n",
    "\n",
    "\n",
    "`{\"star\": 0.4, \"white dwarf\": 0.3, \"neutron star\": 0.1, \"black hole\": 0.2}`\n",
    "\n",
    "For more advanced usage and a deeper dive into the details, please see\n",
    "the documentation tutorials."
   ]
  }
 ],
 "metadata": {
  "kernelspec": {
   "display_name": "Python 3",
   "language": "python",
   "name": "python3"
  },
  "language_info": {
   "codemirror_mode": {
    "name": "ipython",
    "version": 3
   },
   "file_extension": ".py",
   "mimetype": "text/x-python",
   "name": "python",
   "nbconvert_exporter": "python",
   "pygments_lexer": "ipython3",
   "version": "3.10.15"
  }
 },
 "nbformat": 4,
 "nbformat_minor": 2
}
