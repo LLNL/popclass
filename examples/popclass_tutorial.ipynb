{
 "cells": [
  {
   "cell_type": "markdown",
   "metadata": {},
   "source": [
    "# `popclass` Tutorial\n",
    "\n",
    "This notebook is meant to be a way to field-test `popclass`.\n",
    "Treat this as an interactable sandbox/tutorial to test on real data."
   ]
  },
  {
   "cell_type": "code",
   "execution_count": 29,
   "metadata": {},
   "outputs": [],
   "source": [
    "# imports\n",
    "import numpy as np\n",
    "import pandas as pd\n",
    "import sys\n",
    "sys.path.insert(0, \"..\",)\n",
    "from popclass.model import PopulationModel\n",
    "from popclass.posterior import Posterior, InferenceData\n",
    "from popclass.visualization import plot_population_model\n",
    "from popclass.classify import classify"
   ]
  },
  {
   "cell_type": "markdown",
   "metadata": {},
   "source": [
    "## Data\n",
    "\n",
    "This example uses data from [Golovich et al. (2021)](https://iopscience.iop.org/article/10.3847/1538-4365/ac5969#https://gdo-microlensing.llnl.gov/).\n",
    "We start by selecting  and reading in the data from a microlensing event [here](https://gdo-microlensing.llnl.gov/).\n",
    "\n",
    "**If the link is down**:\n",
    "Example data is included in `/data/parallax_trace.csv` within this parent directory."
   ]
  },
  {
   "cell_type": "code",
   "execution_count": 30,
   "metadata": {},
   "outputs": [],
   "source": [
    "example_posterior = pd.read_csv(\"data/parallax_trace.csv\")\n",
    "example_posterior['log10tE'] = np.log10(example_posterior['tE'])\n",
    "example_posterior['log10piE'] = np.log10(example_posterior['piE'])"
   ]
  },
  {
   "cell_type": "markdown",
   "metadata": {},
   "source": [
    "*If the link is not dead, a visualization from that set will be included here.*"
   ]
  },
  {
   "cell_type": "markdown",
   "metadata": {},
   "source": [
    "##  Creating `popclass` Objects\n",
    "\n",
    "To run the classifier, the user must create several objects that `popclass` understands:\n",
    "1) A `Posterior` object that contains the set of posterior samples and parameter labels\n",
    "2) An `InferenceData` object that includes the marginal of the parameters we may want for classification and associated prior density\n",
    "3) A `PopulationModel` object"
   ]
  },
  {
   "cell_type": "markdown",
   "metadata": {},
   "source": [
    "For this example, we are interested in classifiying in $\\log_{10} t_E - \\log_{10} \\pi_E$ space.\n",
    "We will first create a `Posterior` with the ful dataset, then a marginal over `log10tE` and `log10piE`. "
   ]
  },
  {
   "cell_type": "code",
   "execution_count": 31,
   "metadata": {},
   "outputs": [],
   "source": [
    "labels = [\"log10tE\", \"log10piE\"]\n",
    "\n",
    "post = Posterior(\n",
    "    samples=example_posterior.values,\n",
    "    parameter_labels=example_posterior.columns\n",
    ")\n",
    "\n",
    "marginal = post.marginal(\n",
    "    parameter_list=labels\n",
    ")"
   ]
  },
  {
   "cell_type": "markdown",
   "metadata": {},
   "source": [
    "Our marginal looks like: {{marginal}}.\n",
    "If we want to use this for classification, we need to specify a prior density.\n",
    "For this example, it will be defined somewhat arbitrarily."
   ]
  },
  {
   "cell_type": "code",
   "execution_count": 32,
   "metadata": {},
   "outputs": [],
   "source": [
    "prior_density = 0.28 * np.ones(len(example_posterior['log10piE']))"
   ]
  },
  {
   "cell_type": "markdown",
   "metadata": {},
   "source": [
    "Create an `InferenceData` object."
   ]
  },
  {
   "cell_type": "code",
   "execution_count": 33,
   "metadata": {},
   "outputs": [],
   "source": [
    "inference_data = post.to_inference_data(\n",
    "    prior_density=prior_density\n",
    ")"
   ]
  },
  {
   "cell_type": "markdown",
   "metadata": {},
   "source": [
    "The last ingredient for classification is the `PopulationModel`.\n",
    "For this, we will use one of the models included in the library/"
   ]
  },
  {
   "cell_type": "code",
   "execution_count": 34,
   "metadata": {},
   "outputs": [],
   "source": [
    "population_model = PopulationModel.from_library(\n",
    "    \"popsycle_singles_sukhboldn20\",\n",
    "    library_path=\"../popclass/data/\"\n",
    ")"
   ]
  },
  {
   "cell_type": "markdown",
   "metadata": {},
   "source": [
    "We can also visualize the population model by using visualization tools included in the library."
   ]
  },
  {
   "cell_type": "code",
   "execution_count": null,
   "metadata": {},
   "outputs": [],
   "source": [
    "fig, ax = plot_population_model(\n",
    "    PopulationModel=population_model,\n",
    "    parameters=labels,\n",
    "    levels=3,\n",
    "    legend=True\n",
    ")"
   ]
  },
  {
   "cell_type": "markdown",
   "metadata": {},
   "source": [
    "## Running the classifier\n",
    "\n",
    "With all of the ingredients in place, running the classifier is straightforward.\n",
    "The output of the classifier is a dictionary containing `{classname: probability}` for each class."
   ]
  },
  {
   "cell_type": "code",
   "execution_count": null,
   "metadata": {},
   "outputs": [],
   "source": [
    "classify(\n",
    "    inference_data=inference_data,\n",
    "    population_model=population_model,\n",
    "    parameters=labels\n",
    ")"
   ]
  },
  {
   "cell_type": "markdown",
   "metadata": {},
   "source": [
    "From the results of the classifier, our example event is *most* likely a star."
   ]
  }
 ],
 "metadata": {
  "kernelspec": {
   "display_name": "Python 3 (ipykernel)",
   "language": "python",
   "name": "python3"
  },
  "language_info": {
   "codemirror_mode": {
    "name": "ipython",
    "version": 3
   },
   "file_extension": ".py",
   "mimetype": "text/x-python",
   "name": "python",
   "nbconvert_exporter": "python",
   "pygments_lexer": "ipython3",
   "version": "3.10.14"
  }
 },
 "nbformat": 4,
 "nbformat_minor": 2
}
