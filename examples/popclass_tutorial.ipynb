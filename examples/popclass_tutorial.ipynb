{
 "cells": [
  {
   "cell_type": "markdown",
   "metadata": {},
   "source": [
    "# `popclass` Tutorial\n",
    "\n",
    "This notebook is meant to be a way to field-test `popclass`.\n",
    "Treat this as an interactable sandbox/tutorial to test on real data."
   ]
  },
  {
   "cell_type": "code",
   "execution_count": null,
   "metadata": {},
   "outputs": [],
   "source": [
    "# imports\n",
    "import numpy as np\n",
    "import pandas as pd\n",
    "from popclass.model import PopulationModel\n",
    "from popclass.posterior import Posterior, InferenceData\n",
    "from popclass.visualization import plot_population_model\n",
    "from popclass.classify import classify"
   ]
  },
  {
   "cell_type": "markdown",
   "metadata": {},
   "source": [
    "## Data\n",
    "\n",
    "This example uses data from [Golovich et al. (2021)](https://iopscience.iop.org/article/10.3847/1538-4365/ac5969#https://gdo-microlensing.llnl.gov/).\n",
    "We start by selecting  and reading in the data from a microlensing event [here](https://gdo-microlensing.llnl.gov/).\n",
    "\n",
    "**If the link is down**:\n",
    "Example data is included in `/data/parallax_trace.csv` within this parent directory."
   ]
  },
  {
   "cell_type": "code",
   "execution_count": null,
   "metadata": {},
   "outputs": [],
   "source": [
    "example_posterior = pd.read_csv(\"data/parallax_trace.csv\")"
   ]
  },
  {
   "cell_type": "markdown",
   "metadata": {},
   "source": [
    "*If the link is not dead, a visualization from that set will be included here.*"
   ]
  },
  {
   "cell_type": "markdown",
   "metadata": {},
   "source": [
    "##  Creating `popclass` Objects\n",
    "\n",
    "To run the classifier, the user must create several objects that `popclass` understands:\n",
    "1) A `Posterior` object that contains the set of posterior samples and parameter labels\n",
    "2) An `InferenceData` object that includes the marginal of the parameters we may want for classification and associated prior density\n",
    "3) A `PopulationModel` object"
   ]
  },
  {
   "cell_type": "markdown",
   "metadata": {},
   "source": [
    "For this example, we are interested in classifiying in $\\log_{10} t_E - \\log_{10} \\pi_E$ space.\n",
    "We will first create a `Posterior` with the ful dataset, then a marginal over `log10tE` and `log10piE`. "
   ]
  },
  {
   "cell_type": "code",
   "execution_count": null,
   "metadata": {},
   "outputs": [],
   "source": [
    "labels = [\"log10tE\", \"log10piE\"]\n",
    "\n",
    "post = Posterior(\n",
    "    samples=example_posterior.values,\n",
    "    parameter_labels=example_posterior.columns\n",
    ")\n",
    "\n",
    "marginal = post.marginal(\n",
    "    paameter_list=labels\n",
    ")"
   ]
  },
  {
   "cell_type": "markdown",
   "metadata": {},
   "source": [
    "Our marginal looks like: {{marginal}}.\n",
    "If we want to use this for classification, we need to specify a prior density."
   ]
  },
  {
   "cell_type": "code",
   "execution_count": null,
   "metadata": {},
   "outputs": [],
   "source": []
  },
  {
   "cell_type": "code",
   "execution_count": null,
   "metadata": {},
   "outputs": [],
   "source": []
  },
  {
   "cell_type": "markdown",
   "metadata": {},
   "source": [
    "## Initialize the `popclass` objects\n",
    "\n",
    "In order to run the classifier, a few objects must be constructed:\n",
    "* A `Posterior` object that contains parameter labels and posterior samples\n",
    "* An `InferenceData` object, which should contain a `Posterior.marginal()` and prior density for desired parameters."
   ]
  }
 ],
 "metadata": {
  "language_info": {
   "name": "python"
  }
 },
 "nbformat": 4,
 "nbformat_minor": 2
}
